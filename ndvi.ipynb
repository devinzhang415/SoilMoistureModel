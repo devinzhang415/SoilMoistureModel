{
 "cells": [
  {
   "cell_type": "code",
   "execution_count": 40,
   "metadata": {},
   "outputs": [],
   "source": [
    "from PIL import Image\n",
    "import numpy as np\n",
    "import matplotlib.pyplot as plt"
   ]
  },
  {
   "cell_type": "code",
   "execution_count": 41,
   "metadata": {},
   "outputs": [
    {
     "name": "stdout",
     "output_type": "stream",
     "text": [
      "Colored ENDVI image saved as endvi1.png\n"
     ]
    }
   ],
   "source": [
    "def get_endvi(nir, green, blue):\n",
    "    with np.errstate(divide='ignore', invalid='ignore'):\n",
    "        endvi = ((nir + green) - (2 * blue)) / ((nir + green) + (2 * blue))\n",
    "        endvi[np.isnan(endvi)] = 0\n",
    "    return endvi\n",
    "\n",
    "def apply_colormap(gray_image, colormap='viridis'):\n",
    "    # Normalize the image to the range [0, 1] for colormap application\n",
    "    endvi_normalized = (gray_image - np.min(gray_image)) / (np.max(gray_image) - np.min(gray_image))\n",
    "\n",
    "    # Apply colormap\n",
    "    cmap = plt.get_cmap(colormap)\n",
    "    # colored_iamge = cmap(gray_image)\n",
    "    colored_image = cmap(endvi_normalized)\n",
    "    \n",
    "    # Convert the colored image to uint8 format\n",
    "    colored_image = (colored_image[:, :, :3] * 255).astype(np.uint8)\n",
    "    \n",
    "    return colored_image\n",
    "\n",
    "def main(input_image_path, output_image_path, colormap='viridis'):\n",
    "    # Open the image as numpy array\n",
    "    img = Image.open(input_image_path)\n",
    "    img_array = np.array(img)\n",
    "    \n",
    "    # Get NIR, Green, and Blue channels\n",
    "    nir = img_array[:, :, 0].astype(float)\n",
    "    green = img_array[:, :, 1].astype(float)\n",
    "    blue = img_array[:, :, 2].astype(float)\n",
    "    \n",
    "    # Calculate the ENDVI\n",
    "    endvi = get_endvi(nir, green, blue)\n",
    "    \n",
    "    # Apply the colormap\n",
    "    endvi_colored = apply_colormap(endvi, colormap)\n",
    "    \n",
    "    # Create an image from the colored ENDVI values\n",
    "    endvi_image = Image.fromarray(endvi_colored)\n",
    "    \n",
    "    # Save the new image\n",
    "    endvi_image.save(output_image_path)\n",
    "    print(f\"Colored ENDVI image saved as {output_image_path}\")\n",
    "\n",
    "# Example usage\n",
    "input_image_path = 'ngb1.jpg'\n",
    "output_image_path = 'endvi1.png'\n",
    "main(input_image_path, output_image_path, colormap='gist_rainbow')"
   ]
  }
 ],
 "metadata": {
  "kernelspec": {
   "display_name": "SoilMoistureModelTF",
   "language": "python",
   "name": "python3"
  },
  "language_info": {
   "codemirror_mode": {
    "name": "ipython",
    "version": 3
   },
   "file_extension": ".py",
   "mimetype": "text/x-python",
   "name": "python",
   "nbconvert_exporter": "python",
   "pygments_lexer": "ipython3",
   "version": "3.10.12"
  },
  "orig_nbformat": 4
 },
 "nbformat": 4,
 "nbformat_minor": 2
}
